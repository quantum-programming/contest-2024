{
 "cells": [
  {
   "cell_type": "markdown",
   "metadata": {},
   "source": [
    "# 前提知識\n",
    "## Pauli群, Clifford ゲート, non-Cliffordゲート\n",
    "ある量子ビットのHilbert空間$\\mathcal{H}$に作用する演算子に関する基底として、Pauli演算子$\\{I, X, Y, Z\\}$がある：\n",
    "\\begin{equation}\n",
    "I := \\begin{pmatrix} 1 & 0 \\\\ 0 & 1\\end{pmatrix}, \n",
    "X := \\begin{pmatrix} 0 & 1 \\\\ 1 & 0\\end{pmatrix},\n",
    "Y := \\begin{pmatrix} 0 & -i \\\\ i & 0\\end{pmatrix},\n",
    "Z := \\begin{pmatrix} 1 & 0 \\\\ 0 & -1\\end{pmatrix}\n",
    "\\end{equation}\n",
    "同様に、$N$量子ビット系のHilbert空間$\\mathcal{H}_N := \\mathcal{H}^{\\otimes N}$においては、Pauli演算子積$\\{I, X, Y, Z\\}^{\\otimes N}$が完全基底をなすことが知られている。\n",
    "つまり、$\\mathcal{H}_N$に作用する線形演算子$L \\in \\mathcal{L}(\\mathcal{H}_N)$に対して、$L = \\sum_i c_i P_i$を満たす係数の集合$\\{c_i\\}_i$が一意に定まる。\n",
    "また、位相自由度を付した $\\mathcal{P}_N := \\{\\pm1, \\pm i\\} \\times \\{I, X, Y, Z\\}^{\\otimes N}$は群をなし、Pauli群と呼ばれている。\n",
    "\n",
    "Clifford演算子(もしくはCliffordゲート)とは、Pauli群をPauli群に移すような線形演算子のことである。具体的には、Clifford演算子の集合は\n",
    "\\begin{equation}\n",
    "\\mathcal{C}_N := \\{U \\in \\mathcal{U}_N | U P U^\\dag \\in \\mathcal{P}_N, \\forall P\\in\\mathcal{P}_N\\}\n",
    "\\end{equation}\n",
    "と定義されている。特に、位相自由度を取り除いた集合$\\mathcal{C}_N/e^{i \\phi}$を指してClifford群と呼ぶことが多い。\n",
    "\n",
    "Cliffordゲートのみから構成された量子回路をClifford回路と呼ぶ。ここで、Clifford回路は古典計算機で効率的に (つまり時間計算量、空間計算量がO(${\\rm poly}(N)$)で)シミュレートできることが知られている (Gottesman-Knillの定理)。\n",
    "つまり、Clifford回路だけでは量子加速が得られない (例えばShorのアルゴリズムによる指数加速が得られない)ため、non-Cliffordゲートを追加する必要がある。\n",
    "\n",
    "とはいえ、誤り耐性量子計算(Fault-tolerant quantum computing, FTQC)では、自由になんでも追加できるわけではなく、実装上の制約が付いている。\n",
    "最も現実的な選択肢の一つが、Tゲートと呼ばれるnon-Cliffordゲートを用いるタイプである。\n",
    "CliffordゲートとTゲートを用いて一般の量子回路を書き下すことを、Clifford+T分解やClifford+Tコンパイルと呼ぶ。\n",
    "\n",
    "\n",
    "## Clifford+T compilation\n",
    "\n",
    "FTQCの回路を設計する際には、まず量子回路を連続的なパラメータを含む形で構成してからClifford+T分解することが多い。\n",
    "頻出するゲートとして、Pauli演算子に関する回転ゲート$e^{-i \\theta P}~(P\\in\\mathcal{P}_N)$が挙げられる。ここで、任意のPauli回転ゲートは、up to Cliffordで Pauli Z rotationと等価、つまり、あるClifford演算子$C\\in\\mathcal{C}_N$が存在して$C e^{-i\\theta P} C^\\dag = e^{-i \\theta Z}~(Z=\\begin{pmatrix} 1 & 0 \\\\ 0 & -1 \\end{pmatrix})$と書けることに注意すると、1量子ビットのPauli Z rotationのみに関するClifford+T分解を考えれば十分であることがわかる。\n",
    "具体的には、回転角$\\theta$を定めた際に、以下のように1量子ビットに作用するゲートを考える：\n",
    "\\begin{equation}\n",
    "R_z(\\theta) = \\exp\\left( -i \\frac{\\theta}{2} Z\\right).\n",
    "\\end{equation}\n",
    "\n",
    "実は、一般の$\\theta$に関して厳密に実装をすることはできない。\n",
    "なぜなら、Cliffordゲートは離散群をなし、$k$個のTゲートを含むようなゲートの集合から生成される群（level-$(k+2)$ Clifford hierarchy）もまた、離散群をなすためである。\n",
    "これは一見悪いニュースに聞こえるが、実は、Tゲートの個数に対して指数的に要素数が増え、ユニタリ群全体を稠密に埋め尽くしていく(Solovay-Kitaevの定理)という性質がある。\n",
    "そこから類推すると、精度$\\epsilon$に関して深さ$O({\\rm polylog(1/\\epsilon)})$の回路によって近似実装が可能なんじゃないかという気がしてくる。\n",
    "\n",
    "実際、$R_z$ゲートを精度$\\epsilon$でClifford+T分解するための（ほぼ）最適な分解方法が、\n",
    "Ross&Selinger ('14) [1] によって提案されており、Tゲートの数が$3\\log_2(1/\\epsilon)+K + O(\\log\\log(1/\\epsilon))$($K$は定数)で与えられることが知られている。このスケーリングは、loglog補正を除いてoptimalであることも示されているので、界隈にとってスタンダードな手法といえる。\n",
    "ただ、実装が公開[2]されてものの、Haskel言語に基づいており、他言語から呼び出す際には非常に使いづらい。\n",
    "そこで、pythonで気軽に使えるようなコードを整備するのが我々の目標である。\n",
    "\n",
    "## コンテストの問題概要\n",
    "Ross-Selingerアルゴリズムは、以下のようなステップで構成されている。\n",
    "\n",
    "0. 入力の決定: 回転角度$\\theta$, 精度$\\epsilon$\n",
    "1. 近似ユニタリ$\\tilde{U}$の計算：$\\|R_z(\\theta) - \\tilde{U}\\| \\geq \\epsilon$であって、有限個のTゲートを用いて実装可能なユニタリ$\\tilde{U}$を列挙する。その中から、必要な$T$ゲートの数が最小であるものを求める。\n",
    "2. コンパイル：$\\tilde{U}$を厳密にClifford+T分解する。\n",
    "\n",
    "ステップ1に対応するコード実装は完了しており、`gridsynthpy`として与えられている。\n",
    "課題は、ステップ2を実装することである。ステップ2の内容は論文[3]で閉じているので、これ読み解き、効率的な実装をするのがコンテスト内容となる。\n",
    "\n",
    "[1] Ross and Selinger, [arXiv:1403.2975](https://arxiv.org/abs/1403.2975) \n",
    "\n",
    "[2] [gridsynth](https://www.mathstat.dal.ca/~selinger/newsynth/)\n",
    "\n",
    "[3] Kliuchnikov, Maslov, Mosca, [arXiv:1206.5236](https://arxiv.org/abs/1206.5236)"
   ]
  },
  {
   "cell_type": "markdown",
   "metadata": {},
   "source": [
    "# ゴールとなる入出力の確認"
   ]
  },
  {
   "cell_type": "code",
   "execution_count": 1,
   "metadata": {},
   "outputs": [
    {
     "data": {
      "text/plain": [
       "True"
      ]
     },
     "execution_count": 1,
     "metadata": {},
     "output_type": "execute_result"
    }
   ],
   "source": [
    "from utils import circuit_to_unitary\n",
    "from qulacs import QuantumCircuit # 量子計算のための数値計算ライブラリ, pip install可能\n",
    "import numpy as np\n",
    "\n",
    "theta=0.3 #量子回路のパラメータ\n",
    "qc = QuantumCircuit(1)\n",
    "qc.add_RZ_gate(0, -theta) # ライブラリ中の定義は Rz = exp(+1j * theta/2 * Z)なので、符号をつける必要がある\n",
    "\n",
    "u_exact = circuit_to_unitary(qc)\n",
    "\n",
    "# 定義の正しさを確認\n",
    "np.allclose(np.diag([np.exp(-1j * theta/2), np.exp(+1j * theta /2)]), u_exact)"
   ]
  },
  {
   "cell_type": "markdown",
   "metadata": {},
   "source": [
    "分解では、Pauliゲートのほか、\n",
    "$S = \\begin{pmatrix} 1 & 0 \\\\ 0 & i\\end{pmatrix} \\simeq R_z(\\pi/4)$, $H=\\begin{pmatrix}1/\\sqrt{2} & 1/\\sqrt{2} \\\\ 1/\\sqrt{2} & -1/\\sqrt{2} \\end{pmatrix}$, $T = \\begin{pmatrix} 1 & 0 \\\\ 0 & e^{i\\pi/4}\\end{pmatrix} \\simeq R_z(\\pi/8)$が登場する。\n",
    "ここで$\\simeq$はglobal phaseを除いて等しい、という意味で用いた。"
   ]
  },
  {
   "cell_type": "code",
   "execution_count": 3,
   "metadata": {},
   "outputs": [
    {
     "name": "stdout",
     "output_type": "stream",
     "text": [
      "T count:\n",
      "8\n",
      "20\n",
      "30\n",
      "100\n"
     ]
    }
   ],
   "source": [
    "# 以下はRoss-Selingerの gridsynthを用いた際の出力 (最終的に求めたい答え)になる\n",
    "# https://www.mathstat.dal.ca/~selinger/newsynth/\n",
    "# インストールしたのちに \"gridsynth 0.3 -d 3\" を実行すると eps=1e-3に対応する計算結果が得られる\n",
    "\n",
    "# eps = 1e-1 でのコンパイル結果\n",
    "gateword1 = \"TSHTHTSHTHTHTHTSHTHSSSWWWWWW\" # W = global phase (exp(1j * pi/4))\n",
    "# 量子回路で左から T-S-H-T-...の順にゲートを追加したものに相当\n",
    "\n",
    "# eps = 1e-2 でのコンパイル結果\n",
    "gateword2 = \"SHTHTHTHTHTHTHTSHTSHTSHTHTHTSHTSHTSHTHTHTHTHTHTHSSSWW\"\n",
    "\n",
    "# eps = 1e-3 でのコンパイル結果\n",
    "gateword3 = \"SHTHTHTSHTHTSHTHTSHTSHTSHTSHTSHTSHTHTHTSHTHTSHTHTHTHTSHTHTSHTSHTHTHTSHTHTHTSHSSSWWWW\"\n",
    "\n",
    "# eps = 1e-10 でのコンパイル結果\n",
    "gateword10 = \"HTSHTSHTHTHTHTSHTSHTHTSHTHTSHTSHTHTHTSHTSHTSHTSHTHTSHTSHTHTSHTSHTHTSHTHTHTSHTHTHTSHTHTSHTHTHTSHTHTHTHTSHTSHTSHTHTSHTSHTSHTSHTHTSHTSHTHTSHTSHTHTHTSHTHTSHTHTSHTHTSHTHTSHTHTHTSHTHTSHTHTSHTHTHTHTSHTHTHTSHTSHTHTSHTHTHTSHTHTHTHTSHTHTSHTSHTHTHTHTHTHTHTSHTHXSSSWWWWWWW\"\n",
    "\n",
    "print(\"T count:\")\n",
    "print(gateword1.count(\"T\"))\n",
    "print(gateword2.count(\"T\"))\n",
    "print(gateword3.count(\"T\"))\n",
    "print(gateword10.count(\"T\"))"
   ]
  },
  {
   "cell_type": "code",
   "execution_count": 4,
   "metadata": {},
   "outputs": [
    {
     "name": "stdout",
     "output_type": "stream",
     "text": [
      "Error: \n",
      "2.56200911e-02\n",
      "5.03389660e-03\n",
      "2.54739990e-04\n",
      "7.45911022e-11\n"
     ]
    }
   ],
   "source": [
    "from utils import word_to_gate, circuit_to_unitary\n",
    "import mpmath\n",
    "\n",
    "def unitary_error(u1, u2):\n",
    "    if type(u1) != type(u2):\n",
    "        if isinstance(u1, mpmath.matrix):\n",
    "            u2 = mpmath.matrix(u2)\n",
    "        else:\n",
    "            u1 = mpmath.matrix(u1)\n",
    "            \n",
    "    E = u1 - u2\n",
    "    return mpmath.sqrt(mpmath.fabs(E[0, 0] * E[1, 1] + E[0, 1] * E[1, 0]))\n",
    "\n",
    "\n",
    "u_rs1 = circuit_to_unitary(word_to_gate(gateword1, backend = \"qulacs\")) \n",
    "u_rs2 = circuit_to_unitary(word_to_gate(gateword2, backend = \"qulacs\")) \n",
    "u_rs3 = circuit_to_unitary(word_to_gate(gateword3, backend = \"qulacs\")) \n",
    "u_rs10 = circuit_to_unitary(word_to_gate(gateword10, backend = \"qulacs\")) \n",
    "\n",
    "error_rs1 = unitary_error(u_exact, u_rs1)\n",
    "error_rs2 = unitary_error(u_exact, u_rs2)\n",
    "error_rs3 = unitary_error(u_exact, u_rs3)\n",
    "error_rs10 = unitary_error(u_exact, u_rs10)\n",
    "\n",
    "print(\"Error: \")\n",
    "print(f\"{float(error_rs1):.8e}\")\n",
    "print(f\"{float(error_rs2):.8e}\")\n",
    "print(f\"{float(error_rs3):.8e}\")\n",
    "print(f\"{float(error_rs10):.8e}\")"
   ]
  },
  {
   "cell_type": "markdown",
   "metadata": {},
   "source": [
    "## ステップ1の出力を確認\n",
    "ステップ1に関しては、[論文](https://arxiv.org/abs/1403.2975)の実装方法を日本語にまとめた資料をnote.pdfとして準備した。\n",
    "現状、eps=1e-10にて5倍程度の差がある(論文のTable 1を参照)。\n",
    "要因の一つとしては、論文中のAlgorithm 7.6.2における解のチェックについては並列化が可能だが、我々のpygridsynthでは未実装であることなどが考えられる。\n",
    "\n",
    "ステップ2よりもステップ1の高速化に興味がある参加者が多い場合、その旨をご連絡いただければ別問題としての開催も検討します。"
   ]
  },
  {
   "cell_type": "code",
   "execution_count": 20,
   "metadata": {},
   "outputs": [],
   "source": [
    "import qulacs\n",
    "import sys\n",
    "import mpmath # controls the precision\n",
    "\n",
    "def generate_unitary(sol):\n",
    "    u, t = sol\n",
    "    return mpmath.matrix([[u.toComplex, -t.conj.toComplex],\n",
    "                          [t.toComplex, u.conj.toComplex]])\n",
    "\n",
    "\n",
    "def generate_target_Rz(theta):\n",
    "    \"\"\"\n",
    "    return U = exp(-1j * theta/2 * Z)\n",
    "    \"\"\"\n",
    "\n",
    "    return mpmath.matrix([[mpmath.exp(- 1.j * theta / 2), 0],\n",
    "                          [0, mpmath.exp(1.j * theta / 2)]])\n",
    "\n",
    "from pygridsynth import gridsynth\n",
    "\n",
    "mpmath.mp.dps = 130 # number of digits\n",
    "mpmath.mp.pretty = True\n",
    "\n",
    "theta_ = mpmath.mpmathify('0.3')\n",
    "epsilon1 = mpmath.mpmathify('1e-1')\n",
    "epsilon2 = mpmath.mpmathify('1e-2')\n",
    "epsilon3 = mpmath.mpmathify('1e-3')\n",
    "epsilon10 = mpmath.mpmathify('1e-10')\n",
    "\n",
    "verbose = False\n",
    "\n",
    "sol1 = gridsynth(theta=theta_, epsilon=epsilon1, verbose=verbose, )\n",
    "sol2 = gridsynth(theta=theta_, epsilon=epsilon2, verbose=verbose, )\n",
    "sol3 = gridsynth(theta=theta_, epsilon=epsilon3, verbose=verbose, )\n",
    "sol10 = gridsynth(theta=theta_, epsilon=epsilon10, verbose=verbose, )"
   ]
  },
  {
   "cell_type": "code",
   "execution_count": 21,
   "metadata": {},
   "outputs": [
    {
     "name": "stdout",
     "output_type": "stream",
     "text": [
      "CPU times: user 102 ms, sys: 2.26 ms, total: 105 ms\n",
      "Wall time: 104 ms\n"
     ]
    }
   ],
   "source": [
    "%%time\n",
    "sol10 = gridsynth(theta=theta, epsilon=epsilon10, verbose=verbose, ) #Haskel実装では 20ms程度 (cf. 論文のTable 1)"
   ]
  },
  {
   "cell_type": "code",
   "execution_count": 15,
   "metadata": {},
   "outputs": [
    {
     "name": "stdout",
     "output_type": "stream",
     "text": [
      "True\n",
      "False\n",
      "True\n",
      "True\n"
     ]
    }
   ],
   "source": [
    "u_sol1 = generate_unitary(sol1)\n",
    "u_sol2 = generate_unitary(sol2)\n",
    "u_sol3 = generate_unitary(sol3)\n",
    "u_sol10 = generate_unitary(sol10)\n",
    "\n",
    "# ユニタリを計算するステップ1では候補を複数探索しているため、原論文のHaskelコードと一致しないケースもある\n",
    "print(np.isclose(float(error_rs1), float(unitary_error(u_sol1, u_exact))))\n",
    "print(np.isclose(float(error_rs2), float(unitary_error(u_sol2, u_exact))))\n",
    "print(np.isclose(float(error_rs3), float(unitary_error(u_sol3, u_exact))))\n",
    "print(np.isclose(float(error_rs10), float(unitary_error(u_sol10, u_exact))))"
   ]
  },
  {
   "cell_type": "markdown",
   "metadata": {},
   "source": [
    "## 課題\n",
    "上で見たように、ステップ1のコードにより、\n",
    "\\begin{equation}\n",
    "\\tilde{U} = \\begin{pmatrix} u & -t^\\dag \\\\ t & u^\\dag \\end{pmatrix}\n",
    "\\end{equation}\n",
    "を与える$u,t \\in \\mathbb{Z}[1/\\sqrt{2}, i] = \\{a \\omega^3, b \\omega^2+ c\\omega + d | a, b, c, d \\in \\mathbb{D}\\}$がわかっている。\n",
    "ここで、$\\omega:= e^{i \\pi/4} = (1+i)/\\sqrt{2}, \\mathbb{D} = \\mathbb{Z}[\\frac{1}{2}] = \\{\\frac{a}{2^k}| a\\in \\mathbb{Z}, k\\in \\mathbb{N}\\}$である。\n",
    "\n",
    "課題(ステップ2)は、[Kliuchnikov-Maslov-Mosca](https://arxiv.org/abs/1206.5236)のalgorithm 1の実装である。\n",
    "theta = 0.3, eps = 1e-1, 1e-2, 1e-3, 1e-10に関する実行時間をベンチマークし、まとめて提出していただく。\n",
    "\n",
    "\n",
    "もちろん、アルゴリズムの実装だけでなく、より効率的な手法の提案も大歓迎です。\n",
    "コンテスト時点での言語は問いませんが、 最終的には gridsynthpyに組み込めるようにしたいと思っています。"
   ]
  },
  {
   "cell_type": "code",
   "execution_count": 17,
   "metadata": {},
   "outputs": [],
   "source": [
    "def your_code(sol):\n",
    "\n",
    "    #u, t = sol[0].toComplex, sol[1].toComplex\n",
    "    #unitary = generate_unitary(sol)\n",
    "\n",
    "    # generate gateword\n",
    "    gateword = ...\n",
    "\n",
    "    return gateword"
   ]
  },
  {
   "cell_type": "code",
   "execution_count": null,
   "metadata": {},
   "outputs": [],
   "source": [
    "%%time \n",
    "my_gateword1 = your_code(sol1)\n",
    "assert my_gateword1 == gateword1"
   ]
  },
  {
   "cell_type": "code",
   "execution_count": null,
   "metadata": {},
   "outputs": [],
   "source": [
    "%%time \n",
    "my_gateword2 = your_code(sol2)\n",
    "# this does not coincide with gateword2"
   ]
  },
  {
   "cell_type": "code",
   "execution_count": null,
   "metadata": {},
   "outputs": [],
   "source": [
    "%%time \n",
    "my_gateword3 = your_code(sol3)\n",
    "assert my_gateword3 == gateword3"
   ]
  },
  {
   "cell_type": "code",
   "execution_count": null,
   "metadata": {},
   "outputs": [],
   "source": [
    "%%time \n",
    "my_gateword10 = your_code(sol10)\n",
    "assert my_gateword10 == gateword10"
   ]
  },
  {
   "cell_type": "code",
   "execution_count": 16,
   "metadata": {},
   "outputs": [
    {
     "data": {
      "image/png": "[encoded data removed]",
      "text/plain": [
       "<Figure size 1620x108 with 1 Axes>"
      ]
     },
     "execution_count": 16,
     "metadata": {},
     "output_type": "execute_result"
    }
   ],
   "source": [
    "# 視覚的なデバッグに役に立つかもしれない\n",
    "from qulacsvis import circuit_drawer\n",
    "\n",
    "qc = word_to_gate(gateword1)\n",
    "circuit_drawer(qc, \"mpl\")\n",
    "# DeMは global phaseに対応する処理"
   ]
  }
 ],
 "metadata": {
  "kernelspec": {
   "display_name": "qpcon2024",
   "language": "python",
   "name": "qpcon2024"
  },
  "language_info": {
   "codemirror_mode": {
    "name": "ipython",
    "version": 3
   },
   "file_extension": ".py",
   "mimetype": "text/x-python",
   "name": "python",
   "nbconvert_exporter": "python",
   "pygments_lexer": "ipython3",
   "version": "3.10.15"
  }
 },
 "nbformat": 4,
 "nbformat_minor": 2
}
